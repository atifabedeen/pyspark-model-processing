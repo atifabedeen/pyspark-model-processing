{
 "cells": [
  {
   "cell_type": "code",
   "execution_count": null,
   "outputs": [],
   "source": [
    "from pyspark.sql import SparkSession\n",
    "from pyspark.sql.functions import udf, col\n",
    "from pyspark.sql.types import ArrayType, IntegerType, FloatType\n",
    "from pyspark.ml.torch.distributor import TorchDistributor\n",
    "from transformers import ViTForImageClassification, ViTImageProcessor\n",
    "import matplotlib.pyplot as plt\n",
    "import pickle\n",
    "from PIL import Image\n",
    "import time\n",
    "import numpy as np"
   ],
   "metadata": {
    "collapsed": false
   },
   "id": "8cc92bac3fff0f78"
  },
  {
   "cell_type": "code",
   "execution_count": null,
   "outputs": [],
   "source": [
    "spark = SparkSession.builder.\\\n",
    "        appName(\"ImageClassification\").\\\n",
    "        master(\"local[8]\").\\\n",
    "        config(\"spark.executor.memory\", \"16G\").\\\n",
    "        config(\"spark.driver.memory\", \"16G\").\\\n",
    "        getOrCreate()"
   ],
   "metadata": {
    "collapsed": false
   },
   "id": "5aa9da13a336dd43"
  },
  {
   "cell_type": "code",
   "execution_count": null,
   "outputs": [],
   "source": [
    "image_dir = 'images/'\n",
    "dataset_path = '/Users/ykamoji/Documents/ImageDatabase/cifar-10-batches-py/'"
   ],
   "metadata": {
    "collapsed": false
   },
   "id": "88a9d18747067c3f"
  },
  {
   "cell_type": "code",
   "execution_count": null,
   "outputs": [],
   "source": [
    "## This is for streaming images from API that downloads it, otherwise skip this if data coming in array already...\n",
    "\n",
    "\n",
    "# def to_np_array(x):    \n",
    "#   height = 32\n",
    "#   width  = 32\n",
    "#   nChannels = 3\n",
    "#   return np.reshape(x, (height,width,nChannels)).tolist()\n",
    "# \n",
    "# spark_to_np_array = udf(to_np_array, ArrayType(ArrayType(ArrayType(IntegerType()))))"
   ],
   "metadata": {
    "collapsed": false
   },
   "id": "bd0befc75b255f70"
  },
  {
   "cell_type": "code",
   "execution_count": null,
   "outputs": [],
   "source": [
    "## Possible for spark streaming...\n",
    "\n",
    "# image_df = spark.read.format(\"image\").option(\"dropInvalid\", True).load(image_dir,inferschema=True)\n",
    "# \n",
    "# image_len = image_df.count()\n",
    "# \n",
    "# image_df = image_df.withColumn(\"ndarray\", spark_to_np_array(image_df[\"image.data\"]))\n",
    "# image_df.select(\"image.origin\", \"image.width\", \"image.height\",\"ndarray\").show(truncate=False)\n",
    "\n",
    "# def processImage(im):\n",
    "#         return np.array(im.ndarray).astype(np.uint8)\n",
    "\n",
    "# for i in range(image_len):\n",
    "#         plt.imshow(image_df.select('ndarray').rdd.map(processImage).collect()[i])\n",
    "#         plt.show()"
   ],
   "metadata": {
    "collapsed": false
   },
   "id": "20fed67adafd0424"
  },
  {
   "cell_type": "code",
   "execution_count": null,
   "outputs": [],
   "source": [
    "## Visualize data\n",
    "training_data = pickle.load(open(dataset_path + f'data_batch_1', 'rb'), encoding='latin-1')"
   ],
   "metadata": {
    "collapsed": false
   },
   "id": "fe83b0b1c851efac"
  },
  {
   "cell_type": "code",
   "execution_count": null,
   "outputs": [],
   "source": [
    "# index = 4\n",
    "# im = training_data['data'][index].reshape(3, 32, 32).transpose(1,2,0)\n",
    "# # print(im)\n",
    "# plt.imshow(im), training_data['labels'][index], training_data['filenames'][index]"
   ],
   "metadata": {
    "collapsed": false
   },
   "id": "cedb705de93bf745"
  },
  {
   "cell_type": "code",
   "execution_count": null,
   "outputs": [],
   "source": [
    "train_dataset = []\n",
    "test_dataset = []\n",
    "label_map = []\n",
    "for i in range(1,2):\n",
    "    data = pickle.load(open(dataset_path + f'data_batch_{i}', 'rb'), encoding='latin-1')\n",
    "    train_dataset.extend(zip(data[\"data\"], data[\"labels\"]))\n",
    "    \n",
    "test_data = pickle.load(open(dataset_path + f'test_batch', 'rb'), encoding='latin-1')\n",
    "test_dataset.extend(zip(test_data[\"data\"], test_data[\"labels\"]))\n",
    "\n",
    "meta = pickle.load(open(dataset_path + f'batches.meta', 'rb'), encoding='latin-1')\n",
    "label_map = { index:label for index, label in enumerate(meta['label_names'])}"
   ],
   "metadata": {
    "collapsed": false
   },
   "id": "a77266f777ec4d15"
  },
  {
   "cell_type": "code",
   "execution_count": null,
   "outputs": [],
   "source": [
    "# def reshape_image(record):\n",
    "#     image, label = record\n",
    "#     height = 32\n",
    "#     width  = 32\n",
    "#     nChannels = 3\n",
    "#     data = [float(x) for x in image.reshape(nChannels, height,width).transpose(1,2,0).flatten()]\n",
    "#     return data, label\n",
    "# \n",
    "# image_rdd = spark.sparkContext.parallelize(train_dataset, numSlices=500).map(reshape_image)\n",
    "# \n",
    "# imagesWithLabels = image_rdd.toDF([\"image\", \"label\"])\n",
    "# \n",
    "# convert_to_float = udf(lambda x: x, ArrayType(FloatType()))\n",
    "# imagesWithLabels = imagesWithLabels.withColumn(\"image\", convert_to_float(col(\"image\")))\n",
    "# imagesWithLabels.printSchema()\n",
    "# imagesWithLabels.cache()"
   ],
   "metadata": {
    "collapsed": false
   },
   "id": "4eb8756f54fbf6e9"
  },
  {
   "cell_type": "code",
   "execution_count": null,
   "outputs": [],
   "source": [
    "# imagesWithLabels.select(\"label\", \"image\").show(5, truncate=False)"
   ],
   "metadata": {
    "collapsed": false
   },
   "id": "f132f42a94ae5927"
  },
  {
   "cell_type": "code",
   "execution_count": null,
   "outputs": [],
   "source": [
    "# for i in range(5):\n",
    "#         plt.imshow(images[i])\n",
    "#         plt.show()"
   ],
   "metadata": {
    "collapsed": false
   },
   "id": "7081c7606e737ee0"
  },
  {
   "cell_type": "code",
   "execution_count": null,
   "outputs": [],
   "source": [
    "processor = ViTImageProcessor.from_pretrained('aaraki/vit-base-patch16-224-in21k-finetuned-cifar10', cache_dir='models/')\n",
    "model = ViTForImageClassification.from_pretrained('aaraki/vit-base-patch16-224-in21k-finetuned-cifar10', cache_dir='models/')\n",
    "model.eval()"
   ],
   "metadata": {
    "collapsed": false
   },
   "id": "6a87e88804d1e58"
  },
  {
   "cell_type": "code",
   "execution_count": null,
   "outputs": [],
   "source": [
    "def reshape_image(record):\n",
    "    image, label = record\n",
    "    height = 32\n",
    "    width  = 32\n",
    "    nChannels = 3\n",
    "    data = [float(x) for x in image.reshape(nChannels, height,width).transpose(1,2,0).flatten()]\n",
    "    image = np.array(data).reshape(32,32, 3).astype(np.uint8)\n",
    "    input = processor(images=image, return_tensors=\"pt\")\n",
    "    return input, label\n",
    "   \n",
    "\n",
    "def predictImage(record):\n",
    "    gt = record[1]\n",
    "    class_label = label_map[gt]\n",
    "    output = model(**record[0])\n",
    "    logits = output.logits\n",
    "    pred = logits.argmax(-1).item()\n",
    "        \n",
    "    return class_label, 1 if gt == pred else 0\n",
    "\n",
    "\n",
    "def calc_acc(record):\n",
    "    return record[0], f\"{float(sum(record[1]) * 100 / len(record[1])):.2f}%\"\n"
   ],
   "metadata": {
    "collapsed": false
   },
   "id": "87ff355eea1b8c5e"
  },
  {
   "cell_type": "code",
   "execution_count": 751,
   "outputs": [
    {
     "name": "stderr",
     "output_type": "stream",
     "text": [
      "[Stage 10:==================================================>       (7 + 1) / 8]\r"
     ]
    },
    {
     "name": "stdout",
     "output_type": "stream",
     "text": [
      "Time taken = 22.024 sec \n",
      "\n",
      "\n",
      "bird : 100.00%\n",
      "airplane : 97.22%\n",
      "ship : 100.00%\n",
      "cat : 100.00%\n",
      "deer : 100.00%\n",
      "dog : 96.43%\n",
      "truck : 94.29%\n",
      "horse : 100.00%\n",
      "frog : 100.00%\n",
      "automobile : 95.83%\n"
     ]
    },
    {
     "name": "stderr",
     "output_type": "stream",
     "text": [
      "                                                                                \r"
     ]
    }
   ],
   "source": [
    "test = test_dataset[:300]\n",
    "start = time.time()\n",
    "results = spark.sparkContext.parallelize(test).map(reshape_image).map(predictImage).groupByKey().mapValues(list).map(calc_acc).collect()\n",
    "print(f\"Time taken = {(time.time() - start):.3f} sec \\n\\n\")\n",
    "for class_label, acc in results:\n",
    "    print(f\"{class_label} : {acc}\")\n",
    "\n",
    "# correct_labels = sum([ 1 if res else 0 for res in results]) \n",
    "# print(f\"Accuracy {correct_labels*100/len(test):.3f} %\")"
   ],
   "metadata": {
    "collapsed": false,
    "ExecuteTime": {
     "end_time": "2024-04-08T06:14:41.779714Z",
     "start_time": "2024-04-08T06:14:19.742830Z"
    }
   },
   "id": "d3d231cc1bcd4f53"
  },
  {
   "cell_type": "code",
   "execution_count": null,
   "outputs": [],
   "source": [
    "# spark.stop()\n"
   ],
   "metadata": {
    "collapsed": false
   },
   "id": "50b6b8c747ed7858"
  },
  {
   "cell_type": "code",
   "execution_count": null,
   "outputs": [],
   "source": [],
   "metadata": {
    "collapsed": false
   },
   "id": "a43f42cfb29f889a"
  }
 ],
 "metadata": {
  "kernelspec": {
   "display_name": "Python 3",
   "language": "python",
   "name": "python3"
  },
  "language_info": {
   "codemirror_mode": {
    "name": "ipython",
    "version": 2
   },
   "file_extension": ".py",
   "mimetype": "text/x-python",
   "name": "python",
   "nbconvert_exporter": "python",
   "pygments_lexer": "ipython2",
   "version": "2.7.6"
  }
 },
 "nbformat": 4,
 "nbformat_minor": 5
}

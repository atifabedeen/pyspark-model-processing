{
 "cells": [
  {
   "cell_type": "code",
   "execution_count": 692,
   "outputs": [],
   "source": [
    "from pyspark.sql import SparkSession\n",
    "from pyspark.sql.functions import udf, col\n",
    "from pyspark.sql.types import ArrayType, IntegerType, FloatType\n",
    "from pyspark.ml.torch.distributor import TorchDistributor\n",
    "from transformers import ViTForImageClassification, ViTImageProcessor\n",
    "import matplotlib.pyplot as plt\n",
    "import pickle\n",
    "from PIL import Image\n",
    "import time\n",
    "import numpy as np"
   ],
   "metadata": {
    "collapsed": false,
    "ExecuteTime": {
     "end_time": "2024-04-08T05:50:57.671776Z",
     "start_time": "2024-04-08T05:50:57.664465Z"
    }
   },
   "id": "8cc92bac3fff0f78"
  },
  {
   "cell_type": "code",
   "execution_count": 685,
   "outputs": [],
   "source": [
    "spark = SparkSession.builder.\\\n",
    "        appName(\"ImageClassification\").\\\n",
    "        master(\"local[8]\").\\\n",
    "        config(\"spark.executor.memory\", \"16G\").\\\n",
    "        config(\"spark.driver.memory\", \"16G\").\\\n",
    "        getOrCreate()"
   ],
   "metadata": {
    "collapsed": false,
    "ExecuteTime": {
     "end_time": "2024-04-08T05:49:40.804116Z",
     "start_time": "2024-04-08T05:49:40.660026Z"
    }
   },
   "id": "5aa9da13a336dd43"
  },
  {
   "cell_type": "code",
   "execution_count": 556,
   "outputs": [],
   "source": [
    "image_dir = 'images/'\n",
    "dataset_path = '/Users/ykamoji/Documents/ImageDatabase/cifar-10-batches-py/'"
   ],
   "metadata": {
    "collapsed": false,
    "ExecuteTime": {
     "end_time": "2024-04-08T04:55:58.905286Z",
     "start_time": "2024-04-08T04:55:58.891915Z"
    }
   },
   "id": "88a9d18747067c3f"
  },
  {
   "cell_type": "code",
   "execution_count": 557,
   "outputs": [],
   "source": [
    "## This is for streaming images from API that downloads it, otherwise skip this if data coming in array already...\n",
    "\n",
    "\n",
    "# def to_np_array(x):    \n",
    "#   height = 32\n",
    "#   width  = 32\n",
    "#   nChannels = 3\n",
    "#   return np.reshape(x, (height,width,nChannels)).tolist()\n",
    "# \n",
    "# spark_to_np_array = udf(to_np_array, ArrayType(ArrayType(ArrayType(IntegerType()))))"
   ],
   "metadata": {
    "collapsed": false,
    "ExecuteTime": {
     "end_time": "2024-04-08T04:55:59.836192Z",
     "start_time": "2024-04-08T04:55:59.756262Z"
    }
   },
   "id": "bd0befc75b255f70"
  },
  {
   "cell_type": "code",
   "execution_count": 558,
   "outputs": [],
   "source": [
    "## Possible for spark streaming...\n",
    "\n",
    "# image_df = spark.read.format(\"image\").option(\"dropInvalid\", True).load(image_dir,inferschema=True)\n",
    "# \n",
    "# image_len = image_df.count()\n",
    "# \n",
    "# image_df = image_df.withColumn(\"ndarray\", spark_to_np_array(image_df[\"image.data\"]))\n",
    "# image_df.select(\"image.origin\", \"image.width\", \"image.height\",\"ndarray\").show(truncate=False)\n",
    "\n",
    "# def processImage(im):\n",
    "#         return np.array(im.ndarray).astype(np.uint8)\n",
    "\n",
    "# for i in range(image_len):\n",
    "#         plt.imshow(image_df.select('ndarray').rdd.map(processImage).collect()[i])\n",
    "#         plt.show()"
   ],
   "metadata": {
    "collapsed": false,
    "ExecuteTime": {
     "end_time": "2024-04-08T04:56:00.225586Z",
     "start_time": "2024-04-08T04:56:00.160745Z"
    }
   },
   "id": "20fed67adafd0424"
  },
  {
   "cell_type": "code",
   "execution_count": 559,
   "outputs": [],
   "source": [
    "## Visualize data\n",
    "training_data = pickle.load(open(dataset_path + f'data_batch_1', 'rb'), encoding='latin-1')"
   ],
   "metadata": {
    "collapsed": false,
    "ExecuteTime": {
     "end_time": "2024-04-08T04:56:00.505732Z",
     "start_time": "2024-04-08T04:56:00.481941Z"
    }
   },
   "id": "fe83b0b1c851efac"
  },
  {
   "cell_type": "code",
   "execution_count": 606,
   "outputs": [],
   "source": [
    "# index = 4\n",
    "# im = training_data['data'][index].reshape(3, 32, 32).transpose(1,2,0)\n",
    "# # print(im)\n",
    "# plt.imshow(im), training_data['labels'][index], training_data['filenames'][index]"
   ],
   "metadata": {
    "collapsed": false,
    "ExecuteTime": {
     "end_time": "2024-04-08T05:15:35.349129Z",
     "start_time": "2024-04-08T05:15:35.340064Z"
    }
   },
   "id": "cedb705de93bf745"
  },
  {
   "cell_type": "code",
   "execution_count": 618,
   "outputs": [],
   "source": [
    "train_dataset = []\n",
    "test_dataset = []\n",
    "label_map = []\n",
    "for i in range(1,2):\n",
    "    data = pickle.load(open(dataset_path + f'data_batch_{i}', 'rb'), encoding='latin-1')\n",
    "    train_dataset.extend(zip(data[\"data\"], data[\"labels\"]))\n",
    "    \n",
    "test_data = pickle.load(open(dataset_path + f'test_batch', 'rb'), encoding='latin-1')\n",
    "test_dataset.extend(zip(test_data[\"data\"], test_data[\"labels\"]))\n",
    "\n",
    "meta = pickle.load(open(dataset_path + f'batches.meta', 'rb'), encoding='latin-1')\n",
    "label_map = { index:label for index, label in enumerate(meta['label_names'])}"
   ],
   "metadata": {
    "collapsed": false,
    "ExecuteTime": {
     "end_time": "2024-04-08T05:22:16.758060Z",
     "start_time": "2024-04-08T05:22:16.725589Z"
    }
   },
   "id": "a77266f777ec4d15"
  },
  {
   "cell_type": "code",
   "execution_count": 605,
   "outputs": [],
   "source": [
    "# def reshape_image(record):\n",
    "#     image, label = record\n",
    "#     height = 32\n",
    "#     width  = 32\n",
    "#     nChannels = 3\n",
    "#     data = [float(x) for x in image.reshape(nChannels, height,width).transpose(1,2,0).flatten()]\n",
    "#     return data, label\n",
    "# \n",
    "# image_rdd = spark.sparkContext.parallelize(train_dataset, numSlices=500).map(reshape_image)\n",
    "# \n",
    "# imagesWithLabels = image_rdd.toDF([\"image\", \"label\"])\n",
    "# \n",
    "# convert_to_float = udf(lambda x: x, ArrayType(FloatType()))\n",
    "# imagesWithLabels = imagesWithLabels.withColumn(\"image\", convert_to_float(col(\"image\")))\n",
    "# imagesWithLabels.printSchema()\n",
    "# imagesWithLabels.cache()"
   ],
   "metadata": {
    "collapsed": false,
    "ExecuteTime": {
     "end_time": "2024-04-08T05:15:29.602201Z",
     "start_time": "2024-04-08T05:15:29.594008Z"
    }
   },
   "id": "4eb8756f54fbf6e9"
  },
  {
   "cell_type": "code",
   "execution_count": 604,
   "outputs": [],
   "source": [
    "# imagesWithLabels.select(\"label\", \"image\").show(5, truncate=False)"
   ],
   "metadata": {
    "collapsed": false,
    "ExecuteTime": {
     "end_time": "2024-04-08T05:15:28.274724Z",
     "start_time": "2024-04-08T05:15:28.273042Z"
    }
   },
   "id": "f132f42a94ae5927"
  },
  {
   "cell_type": "code",
   "execution_count": 545,
   "outputs": [],
   "source": [
    "# for i in range(5):\n",
    "#         plt.imshow(images[i])\n",
    "#         plt.show()"
   ],
   "metadata": {
    "collapsed": false,
    "ExecuteTime": {
     "end_time": "2024-04-08T04:47:15.209144Z",
     "start_time": "2024-04-08T04:47:15.189406Z"
    }
   },
   "id": "7081c7606e737ee0"
  },
  {
   "cell_type": "code",
   "execution_count": 541,
   "outputs": [],
   "source": [
    "processor = ViTImageProcessor.from_pretrained('aaraki/vit-base-patch16-224-in21k-finetuned-cifar10', cache_dir='models/')\n",
    "model = ViTForImageClassification.from_pretrained('aaraki/vit-base-patch16-224-in21k-finetuned-cifar10', cache_dir='models/')"
   ],
   "metadata": {
    "collapsed": false,
    "ExecuteTime": {
     "end_time": "2024-04-08T04:45:49.588816Z",
     "start_time": "2024-04-08T04:45:48.984619Z"
    }
   },
   "id": "6a87e88804d1e58"
  },
  {
   "cell_type": "code",
   "execution_count": 689,
   "outputs": [],
   "source": [
    "def reshape_image(record):\n",
    "    image, label = record\n",
    "    height = 32\n",
    "    width  = 32\n",
    "    nChannels = 3\n",
    "    data = [float(x) for x in image.reshape(nChannels, height,width).transpose(1,2,0).flatten()]\n",
    "    image = np.array(data).reshape(32,32, 3).astype(np.uint8)\n",
    "    input = processor(images=image, return_tensors=\"pt\")\n",
    "    return input, label\n",
    "   \n",
    "\n",
    "def predictImage(record):\n",
    "    grouth_truth = record[1]\n",
    "    class_label = label_map[grouth_truth]\n",
    "    output = model(**record[0])\n",
    "    logits = output.logits\n",
    "    predicted_class_idx = logits.argmax(-1).item()\n",
    "        \n",
    "    return class_label, 1 if grouth_truth == predicted_class_idx else 0\n",
    "\n",
    "\n",
    "def calc_acc(record):\n",
    "    return record[0], f\"{float(sum(record[1]) * 100 / len(record[1])):.2f}%\"\n"
   ],
   "metadata": {
    "collapsed": false,
    "ExecuteTime": {
     "end_time": "2024-04-08T05:50:19.566286Z",
     "start_time": "2024-04-08T05:50:19.563257Z"
    }
   },
   "id": "87ff355eea1b8c5e"
  },
  {
   "cell_type": "code",
   "execution_count": 697,
   "outputs": [
    {
     "name": "stderr",
     "output_type": "stream",
     "text": [
      "[Stage 16:==================================================>       (7 + 1) / 8]\r"
     ]
    },
    {
     "name": "stdout",
     "output_type": "stream",
     "text": [
      "Time taken = 10.357 sec \n",
      "\n",
      "\n",
      "ship : 100.00%\n",
      "bird : 100.00%\n",
      "airplane : 100.00%\n",
      "cat : 100.00%\n",
      "truck : 90.91%\n",
      "deer : 100.00%\n",
      "dog : 100.00%\n",
      "horse : 100.00%\n",
      "frog : 100.00%\n",
      "automobile : 83.33%\n"
     ]
    },
    {
     "name": "stderr",
     "output_type": "stream",
     "text": [
      "                                                                                \r"
     ]
    }
   ],
   "source": [
    "test = test_dataset[:100]\n",
    "start = time.time()\n",
    "results = spark.sparkContext.parallelize(test).map(reshape_image).map(predictImage).groupByKey().mapValues(list).map(calc_acc).collect()\n",
    "print(f\"Time taken = {(time.time() - start):.3f} sec \\n\\n\")\n",
    "for class_label, acc in results:\n",
    "    print(f\"{class_label} : {acc}\")\n",
    "\n",
    "# correct_labels = sum([ 1 if res else 0 for res in results]) \n",
    "# print(f\"Accuracy {correct_labels*100/len(test):.3f} %\")"
   ],
   "metadata": {
    "collapsed": false,
    "ExecuteTime": {
     "end_time": "2024-04-08T05:53:47.248050Z",
     "start_time": "2024-04-08T05:53:36.878241Z"
    }
   },
   "id": "d3d231cc1bcd4f53"
  },
  {
   "cell_type": "code",
   "execution_count": 683,
   "outputs": [],
   "source": [
    "# spark.stop()\n"
   ],
   "metadata": {
    "collapsed": false,
    "ExecuteTime": {
     "end_time": "2024-04-08T05:49:36.168729Z",
     "start_time": "2024-04-08T05:49:35.246207Z"
    }
   },
   "id": "50b6b8c747ed7858"
  },
  {
   "cell_type": "code",
   "execution_count": null,
   "outputs": [],
   "source": [],
   "metadata": {
    "collapsed": false
   },
   "id": "a43f42cfb29f889a"
  }
 ],
 "metadata": {
  "kernelspec": {
   "display_name": "Python 3",
   "language": "python",
   "name": "python3"
  },
  "language_info": {
   "codemirror_mode": {
    "name": "ipython",
    "version": 2
   },
   "file_extension": ".py",
   "mimetype": "text/x-python",
   "name": "python",
   "nbconvert_exporter": "python",
   "pygments_lexer": "ipython2",
   "version": "2.7.6"
  }
 },
 "nbformat": 4,
 "nbformat_minor": 5
}
